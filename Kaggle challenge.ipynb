{
  "nbformat": 4,
  "nbformat_minor": 0,
  "metadata": {
    "colab": {
      "provenance": []
    },
    "kernelspec": {
      "name": "python3",
      "display_name": "Python 3"
    },
    "language_info": {
      "name": "python"
    }
  },
  "cells": [
    {
      "cell_type": "code",
      "execution_count": null,
      "metadata": {
        "id": "r8ojCoe3c-Vz",
        "colab": {
          "base_uri": "https://localhost:8080/"
        },
        "outputId": "af615ea1-10f2-45b2-e9de-5b957d8f6396"
      },
      "outputs": [
        {
          "output_type": "stream",
          "name": "stdout",
          "text": [
            "Requirement already satisfied: kaggle in /usr/local/lib/python3.10/dist-packages (1.6.17)\n",
            "Requirement already satisfied: six>=1.10 in /usr/local/lib/python3.10/dist-packages (from kaggle) (1.16.0)\n",
            "Requirement already satisfied: certifi>=2023.7.22 in /usr/local/lib/python3.10/dist-packages (from kaggle) (2024.8.30)\n",
            "Requirement already satisfied: python-dateutil in /usr/local/lib/python3.10/dist-packages (from kaggle) (2.8.2)\n",
            "Requirement already satisfied: requests in /usr/local/lib/python3.10/dist-packages (from kaggle) (2.32.3)\n",
            "Requirement already satisfied: tqdm in /usr/local/lib/python3.10/dist-packages (from kaggle) (4.66.6)\n",
            "Requirement already satisfied: python-slugify in /usr/local/lib/python3.10/dist-packages (from kaggle) (8.0.4)\n",
            "Requirement already satisfied: urllib3 in /usr/local/lib/python3.10/dist-packages (from kaggle) (2.2.3)\n",
            "Requirement already satisfied: bleach in /usr/local/lib/python3.10/dist-packages (from kaggle) (6.2.0)\n",
            "Requirement already satisfied: webencodings in /usr/local/lib/python3.10/dist-packages (from bleach->kaggle) (0.5.1)\n",
            "Requirement already satisfied: text-unidecode>=1.3 in /usr/local/lib/python3.10/dist-packages (from python-slugify->kaggle) (1.3)\n",
            "Requirement already satisfied: charset-normalizer<4,>=2 in /usr/local/lib/python3.10/dist-packages (from requests->kaggle) (3.4.0)\n",
            "Requirement already satisfied: idna<4,>=2.5 in /usr/local/lib/python3.10/dist-packages (from requests->kaggle) (3.10)\n"
          ]
        }
      ],
      "source": [
        "!pip install kaggle\n",
        "\n"
      ]
    },
    {
      "cell_type": "code",
      "source": [
        "import pandas as pd\n",
        "import numpy as np\n",
        "from sklearn.impute import SimpleImputer\n",
        "from sklearn.preprocessing import StandardScaler, LabelEncoder\n",
        "from sklearn.model_selection import train_test_split\n",
        "\n"
      ],
      "metadata": {
        "id": "Tlx5uibhbm2X"
      },
      "execution_count": null,
      "outputs": []
    },
    {
      "cell_type": "code",
      "source": [
        "from google.colab import files\n",
        "files.upload()\n"
      ],
      "metadata": {
        "colab": {
          "base_uri": "https://localhost:8080/",
          "height": 90
        },
        "id": "6RglO7_vU1ZX",
        "outputId": "4bb3f82d-0152-4764-c96c-c043496fa5d3"
      },
      "execution_count": null,
      "outputs": [
        {
          "output_type": "display_data",
          "data": {
            "text/plain": [
              "<IPython.core.display.HTML object>"
            ],
            "text/html": [
              "\n",
              "     <input type=\"file\" id=\"files-62da7b88-6601-4adb-8ca7-05d34acc5e58\" name=\"files[]\" multiple disabled\n",
              "        style=\"border:none\" />\n",
              "     <output id=\"result-62da7b88-6601-4adb-8ca7-05d34acc5e58\">\n",
              "      Upload widget is only available when the cell has been executed in the\n",
              "      current browser session. Please rerun this cell to enable.\n",
              "      </output>\n",
              "      <script>// Copyright 2017 Google LLC\n",
              "//\n",
              "// Licensed under the Apache License, Version 2.0 (the \"License\");\n",
              "// you may not use this file except in compliance with the License.\n",
              "// You may obtain a copy of the License at\n",
              "//\n",
              "//      http://www.apache.org/licenses/LICENSE-2.0\n",
              "//\n",
              "// Unless required by applicable law or agreed to in writing, software\n",
              "// distributed under the License is distributed on an \"AS IS\" BASIS,\n",
              "// WITHOUT WARRANTIES OR CONDITIONS OF ANY KIND, either express or implied.\n",
              "// See the License for the specific language governing permissions and\n",
              "// limitations under the License.\n",
              "\n",
              "/**\n",
              " * @fileoverview Helpers for google.colab Python module.\n",
              " */\n",
              "(function(scope) {\n",
              "function span(text, styleAttributes = {}) {\n",
              "  const element = document.createElement('span');\n",
              "  element.textContent = text;\n",
              "  for (const key of Object.keys(styleAttributes)) {\n",
              "    element.style[key] = styleAttributes[key];\n",
              "  }\n",
              "  return element;\n",
              "}\n",
              "\n",
              "// Max number of bytes which will be uploaded at a time.\n",
              "const MAX_PAYLOAD_SIZE = 100 * 1024;\n",
              "\n",
              "function _uploadFiles(inputId, outputId) {\n",
              "  const steps = uploadFilesStep(inputId, outputId);\n",
              "  const outputElement = document.getElementById(outputId);\n",
              "  // Cache steps on the outputElement to make it available for the next call\n",
              "  // to uploadFilesContinue from Python.\n",
              "  outputElement.steps = steps;\n",
              "\n",
              "  return _uploadFilesContinue(outputId);\n",
              "}\n",
              "\n",
              "// This is roughly an async generator (not supported in the browser yet),\n",
              "// where there are multiple asynchronous steps and the Python side is going\n",
              "// to poll for completion of each step.\n",
              "// This uses a Promise to block the python side on completion of each step,\n",
              "// then passes the result of the previous step as the input to the next step.\n",
              "function _uploadFilesContinue(outputId) {\n",
              "  const outputElement = document.getElementById(outputId);\n",
              "  const steps = outputElement.steps;\n",
              "\n",
              "  const next = steps.next(outputElement.lastPromiseValue);\n",
              "  return Promise.resolve(next.value.promise).then((value) => {\n",
              "    // Cache the last promise value to make it available to the next\n",
              "    // step of the generator.\n",
              "    outputElement.lastPromiseValue = value;\n",
              "    return next.value.response;\n",
              "  });\n",
              "}\n",
              "\n",
              "/**\n",
              " * Generator function which is called between each async step of the upload\n",
              " * process.\n",
              " * @param {string} inputId Element ID of the input file picker element.\n",
              " * @param {string} outputId Element ID of the output display.\n",
              " * @return {!Iterable<!Object>} Iterable of next steps.\n",
              " */\n",
              "function* uploadFilesStep(inputId, outputId) {\n",
              "  const inputElement = document.getElementById(inputId);\n",
              "  inputElement.disabled = false;\n",
              "\n",
              "  const outputElement = document.getElementById(outputId);\n",
              "  outputElement.innerHTML = '';\n",
              "\n",
              "  const pickedPromise = new Promise((resolve) => {\n",
              "    inputElement.addEventListener('change', (e) => {\n",
              "      resolve(e.target.files);\n",
              "    });\n",
              "  });\n",
              "\n",
              "  const cancel = document.createElement('button');\n",
              "  inputElement.parentElement.appendChild(cancel);\n",
              "  cancel.textContent = 'Cancel upload';\n",
              "  const cancelPromise = new Promise((resolve) => {\n",
              "    cancel.onclick = () => {\n",
              "      resolve(null);\n",
              "    };\n",
              "  });\n",
              "\n",
              "  // Wait for the user to pick the files.\n",
              "  const files = yield {\n",
              "    promise: Promise.race([pickedPromise, cancelPromise]),\n",
              "    response: {\n",
              "      action: 'starting',\n",
              "    }\n",
              "  };\n",
              "\n",
              "  cancel.remove();\n",
              "\n",
              "  // Disable the input element since further picks are not allowed.\n",
              "  inputElement.disabled = true;\n",
              "\n",
              "  if (!files) {\n",
              "    return {\n",
              "      response: {\n",
              "        action: 'complete',\n",
              "      }\n",
              "    };\n",
              "  }\n",
              "\n",
              "  for (const file of files) {\n",
              "    const li = document.createElement('li');\n",
              "    li.append(span(file.name, {fontWeight: 'bold'}));\n",
              "    li.append(span(\n",
              "        `(${file.type || 'n/a'}) - ${file.size} bytes, ` +\n",
              "        `last modified: ${\n",
              "            file.lastModifiedDate ? file.lastModifiedDate.toLocaleDateString() :\n",
              "                                    'n/a'} - `));\n",
              "    const percent = span('0% done');\n",
              "    li.appendChild(percent);\n",
              "\n",
              "    outputElement.appendChild(li);\n",
              "\n",
              "    const fileDataPromise = new Promise((resolve) => {\n",
              "      const reader = new FileReader();\n",
              "      reader.onload = (e) => {\n",
              "        resolve(e.target.result);\n",
              "      };\n",
              "      reader.readAsArrayBuffer(file);\n",
              "    });\n",
              "    // Wait for the data to be ready.\n",
              "    let fileData = yield {\n",
              "      promise: fileDataPromise,\n",
              "      response: {\n",
              "        action: 'continue',\n",
              "      }\n",
              "    };\n",
              "\n",
              "    // Use a chunked sending to avoid message size limits. See b/62115660.\n",
              "    let position = 0;\n",
              "    do {\n",
              "      const length = Math.min(fileData.byteLength - position, MAX_PAYLOAD_SIZE);\n",
              "      const chunk = new Uint8Array(fileData, position, length);\n",
              "      position += length;\n",
              "\n",
              "      const base64 = btoa(String.fromCharCode.apply(null, chunk));\n",
              "      yield {\n",
              "        response: {\n",
              "          action: 'append',\n",
              "          file: file.name,\n",
              "          data: base64,\n",
              "        },\n",
              "      };\n",
              "\n",
              "      let percentDone = fileData.byteLength === 0 ?\n",
              "          100 :\n",
              "          Math.round((position / fileData.byteLength) * 100);\n",
              "      percent.textContent = `${percentDone}% done`;\n",
              "\n",
              "    } while (position < fileData.byteLength);\n",
              "  }\n",
              "\n",
              "  // All done.\n",
              "  yield {\n",
              "    response: {\n",
              "      action: 'complete',\n",
              "    }\n",
              "  };\n",
              "}\n",
              "\n",
              "scope.google = scope.google || {};\n",
              "scope.google.colab = scope.google.colab || {};\n",
              "scope.google.colab._files = {\n",
              "  _uploadFiles,\n",
              "  _uploadFilesContinue,\n",
              "};\n",
              "})(self);\n",
              "</script> "
            ]
          },
          "metadata": {}
        },
        {
          "output_type": "stream",
          "name": "stdout",
          "text": [
            "Saving kaggle.json to kaggle.json\n"
          ]
        },
        {
          "output_type": "execute_result",
          "data": {
            "text/plain": [
              "{'kaggle.json': b'{\"username\":\"pips123\",\"key\":\"953bc30af80e83d9ce2a3bdd8a6264da\"}'}"
            ]
          },
          "metadata": {},
          "execution_count": 149
        }
      ]
    },
    {
      "cell_type": "code",
      "source": [
        "!mkdir -p ~/.kaggle\n",
        "!mv kaggle.json ~/.kaggle/\n",
        "!chmod 600 ~/.kaggle/kaggle.json\n"
      ],
      "metadata": {
        "id": "nHBZ_X8XU88j"
      },
      "execution_count": null,
      "outputs": []
    },
    {
      "cell_type": "code",
      "source": [
        "!kaggle competitions download -c child-mind-institute-problematic-internet-use\n",
        "!unzip child-mind-institute-problematic-internet-use.zip\n",
        "!ls"
      ],
      "metadata": {
        "colab": {
          "base_uri": "https://localhost:8080/"
        },
        "id": "t65vj_FKVAFr",
        "outputId": "1833c82f-950e-4ea5-e5aa-569221fbaa43"
      },
      "execution_count": 151,
      "outputs": [
        {
          "output_type": "stream",
          "name": "stdout",
          "text": [
            "child-mind-institute-problematic-internet-use.zip: Skipping, found more recently modified local copy (use --force to force download)\n",
            "Archive:  child-mind-institute-problematic-internet-use.zip\n",
            "replace data_dictionary.csv? [y]es, [n]o, [A]ll, [N]one, [r]ename: n\n",
            "replace sample_submission.csv? [y]es, [n]o, [A]ll, [N]one, [r]ename: n\n",
            "replace series_test.parquet/id=00115b9f/part-0.parquet? [y]es, [n]o, [A]ll, [N]one, [r]ename: n\n",
            "replace series_test.parquet/id=001f3379/part-0.parquet? [y]es, [n]o, [A]ll, [N]one, [r]ename: n\n",
            "replace series_train.parquet/id=00115b9f/part-0.parquet? [y]es, [n]o, [A]ll, [N]one, [r]ename: child-mind-institute-problematic-internet-use.zip  sample_submission.csv  test.csv\n",
            "data_dictionary.csv\t\t\t\t   series_test.parquet\t  train.csv\n",
            "sample_data\t\t\t\t\t   series_train.parquet\n"
          ]
        }
      ]
    },
    {
      "cell_type": "code",
      "source": [
        "train_csv_path = 'train.csv'\n",
        "test_csv_path = 'test.csv'\n",
        "\n",
        "train_data = pd.read_csv(train_csv_path)\n",
        "test_data = pd.read_csv(test_csv_path)\n",
        "\n",
        "print(\"Train Data:\")\n",
        "print(train_data.head())\n",
        "\n",
        "print(\"\\nTest Data:\")\n",
        "print(test_data.head())\n",
        "\n",
        "print(\"\\nInformações do Train Data:\")\n",
        "print(train_data.info())\n",
        "\n",
        "print(\"\\nEstatísticas descritivas do Train Data:\")\n",
        "print(train_data.describe())\n",
        "\n",
        "print(\"\\nValores ausentes no Train Data:\")\n",
        "print(train_data.isnull().sum())\n",
        "\n",
        "if 'sii' in train_data.columns:\n",
        "    print(\"\\nDistribuição do Alvo (sii):\")\n",
        "    print(train_data['sii'].value_counts())"
      ],
      "metadata": {
        "id": "CYh9CddTaztv",
        "colab": {
          "base_uri": "https://localhost:8080/"
        },
        "outputId": "ed0e5623-ee3f-4400-878d-ff0fbc1f7977"
      },
      "execution_count": 225,
      "outputs": [
        {
          "output_type": "stream",
          "name": "stdout",
          "text": [
            "Train Data:\n",
            "         id Basic_Demos-Enroll_Season  Basic_Demos-Age  Basic_Demos-Sex  \\\n",
            "0  00008ff9                      Fall                5                0   \n",
            "1  000fd460                    Summer                9                0   \n",
            "2  00105258                    Summer               10                1   \n",
            "3  00115b9f                    Winter                9                0   \n",
            "4  0016bb22                    Spring               18                1   \n",
            "\n",
            "  CGAS-Season  CGAS-CGAS_Score Physical-Season  Physical-BMI  Physical-Height  \\\n",
            "0      Winter             51.0            Fall     16.877316             46.0   \n",
            "1         NaN              NaN            Fall     14.035590             48.0   \n",
            "2        Fall             71.0            Fall     16.648696             56.5   \n",
            "3        Fall             71.0          Summer     18.292347             56.0   \n",
            "4      Summer              NaN             NaN           NaN              NaN   \n",
            "\n",
            "   Physical-Weight  ...  PCIAT-PCIAT_18  PCIAT-PCIAT_19  PCIAT-PCIAT_20  \\\n",
            "0             50.8  ...             4.0             2.0             4.0   \n",
            "1             46.0  ...             0.0             0.0             0.0   \n",
            "2             75.6  ...             2.0             1.0             1.0   \n",
            "3             81.6  ...             3.0             4.0             1.0   \n",
            "4              NaN  ...             NaN             NaN             NaN   \n",
            "\n",
            "   PCIAT-PCIAT_Total SDS-Season  SDS-SDS_Total_Raw  SDS-SDS_Total_T  \\\n",
            "0               55.0        NaN                NaN              NaN   \n",
            "1                0.0       Fall               46.0             64.0   \n",
            "2               28.0       Fall               38.0             54.0   \n",
            "3               44.0     Summer               31.0             45.0   \n",
            "4                NaN        NaN                NaN              NaN   \n",
            "\n",
            "   PreInt_EduHx-Season PreInt_EduHx-computerinternet_hoursday  sii  \n",
            "0                 Fall                                    3.0  2.0  \n",
            "1               Summer                                    0.0  0.0  \n",
            "2               Summer                                    2.0  0.0  \n",
            "3               Winter                                    0.0  1.0  \n",
            "4                  NaN                                    NaN  NaN  \n",
            "\n",
            "[5 rows x 82 columns]\n",
            "\n",
            "Test Data:\n",
            "         id Basic_Demos-Enroll_Season  Basic_Demos-Age  Basic_Demos-Sex  \\\n",
            "0  00008ff9                      Fall                5                0   \n",
            "1  000fd460                    Summer                9                0   \n",
            "2  00105258                    Summer               10                1   \n",
            "3  00115b9f                    Winter                9                0   \n",
            "4  0016bb22                    Spring               18                1   \n",
            "\n",
            "  CGAS-Season  CGAS-CGAS_Score Physical-Season  Physical-BMI  Physical-Height  \\\n",
            "0      Winter             51.0            Fall     16.877316             46.0   \n",
            "1         NaN              NaN            Fall     14.035590             48.0   \n",
            "2        Fall             71.0            Fall     16.648696             56.5   \n",
            "3        Fall             71.0          Summer     18.292347             56.0   \n",
            "4      Summer              NaN             NaN           NaN              NaN   \n",
            "\n",
            "   Physical-Weight  ...  BIA-BIA_TBW  PAQ_A-Season  PAQ_A-PAQ_A_Total  \\\n",
            "0             50.8  ...      32.6909           NaN                NaN   \n",
            "1             46.0  ...      27.0552           NaN                NaN   \n",
            "2             75.6  ...          NaN           NaN                NaN   \n",
            "3             81.6  ...      45.9966           NaN                NaN   \n",
            "4              NaN  ...          NaN        Summer               1.04   \n",
            "\n",
            "   PAQ_C-Season PAQ_C-PAQ_C_Total  SDS-Season  SDS-SDS_Total_Raw  \\\n",
            "0           NaN               NaN         NaN                NaN   \n",
            "1          Fall             2.340        Fall               46.0   \n",
            "2        Summer             2.170        Fall               38.0   \n",
            "3        Winter             2.451      Summer               31.0   \n",
            "4           NaN               NaN         NaN                NaN   \n",
            "\n",
            "   SDS-SDS_Total_T PreInt_EduHx-Season  PreInt_EduHx-computerinternet_hoursday  \n",
            "0              NaN                Fall                                     3.0  \n",
            "1             64.0              Summer                                     0.0  \n",
            "2             54.0              Summer                                     2.0  \n",
            "3             45.0              Winter                                     0.0  \n",
            "4              NaN                 NaN                                     NaN  \n",
            "\n",
            "[5 rows x 59 columns]\n",
            "\n",
            "Informações do Train Data:\n",
            "<class 'pandas.core.frame.DataFrame'>\n",
            "RangeIndex: 3960 entries, 0 to 3959\n",
            "Data columns (total 82 columns):\n",
            " #   Column                                  Non-Null Count  Dtype  \n",
            "---  ------                                  --------------  -----  \n",
            " 0   id                                      3960 non-null   object \n",
            " 1   Basic_Demos-Enroll_Season               3960 non-null   object \n",
            " 2   Basic_Demos-Age                         3960 non-null   int64  \n",
            " 3   Basic_Demos-Sex                         3960 non-null   int64  \n",
            " 4   CGAS-Season                             2555 non-null   object \n",
            " 5   CGAS-CGAS_Score                         2421 non-null   float64\n",
            " 6   Physical-Season                         3310 non-null   object \n",
            " 7   Physical-BMI                            3022 non-null   float64\n",
            " 8   Physical-Height                         3027 non-null   float64\n",
            " 9   Physical-Weight                         3076 non-null   float64\n",
            " 10  Physical-Waist_Circumference            898 non-null    float64\n",
            " 11  Physical-Diastolic_BP                   2954 non-null   float64\n",
            " 12  Physical-HeartRate                      2967 non-null   float64\n",
            " 13  Physical-Systolic_BP                    2954 non-null   float64\n",
            " 14  Fitness_Endurance-Season                1308 non-null   object \n",
            " 15  Fitness_Endurance-Max_Stage             743 non-null    float64\n",
            " 16  Fitness_Endurance-Time_Mins             740 non-null    float64\n",
            " 17  Fitness_Endurance-Time_Sec              740 non-null    float64\n",
            " 18  FGC-Season                              3346 non-null   object \n",
            " 19  FGC-FGC_CU                              2322 non-null   float64\n",
            " 20  FGC-FGC_CU_Zone                         2282 non-null   float64\n",
            " 21  FGC-FGC_GSND                            1074 non-null   float64\n",
            " 22  FGC-FGC_GSND_Zone                       1062 non-null   float64\n",
            " 23  FGC-FGC_GSD                             1074 non-null   float64\n",
            " 24  FGC-FGC_GSD_Zone                        1063 non-null   float64\n",
            " 25  FGC-FGC_PU                              2310 non-null   float64\n",
            " 26  FGC-FGC_PU_Zone                         2271 non-null   float64\n",
            " 27  FGC-FGC_SRL                             2305 non-null   float64\n",
            " 28  FGC-FGC_SRL_Zone                        2267 non-null   float64\n",
            " 29  FGC-FGC_SRR                             2307 non-null   float64\n",
            " 30  FGC-FGC_SRR_Zone                        2269 non-null   float64\n",
            " 31  FGC-FGC_TL                              2324 non-null   float64\n",
            " 32  FGC-FGC_TL_Zone                         2285 non-null   float64\n",
            " 33  BIA-Season                              2145 non-null   object \n",
            " 34  BIA-BIA_Activity_Level_num              1991 non-null   float64\n",
            " 35  BIA-BIA_BMC                             1991 non-null   float64\n",
            " 36  BIA-BIA_BMI                             1991 non-null   float64\n",
            " 37  BIA-BIA_BMR                             1991 non-null   float64\n",
            " 38  BIA-BIA_DEE                             1991 non-null   float64\n",
            " 39  BIA-BIA_ECW                             1991 non-null   float64\n",
            " 40  BIA-BIA_FFM                             1991 non-null   float64\n",
            " 41  BIA-BIA_FFMI                            1991 non-null   float64\n",
            " 42  BIA-BIA_FMI                             1991 non-null   float64\n",
            " 43  BIA-BIA_Fat                             1991 non-null   float64\n",
            " 44  BIA-BIA_Frame_num                       1991 non-null   float64\n",
            " 45  BIA-BIA_ICW                             1991 non-null   float64\n",
            " 46  BIA-BIA_LDM                             1991 non-null   float64\n",
            " 47  BIA-BIA_LST                             1991 non-null   float64\n",
            " 48  BIA-BIA_SMM                             1991 non-null   float64\n",
            " 49  BIA-BIA_TBW                             1991 non-null   float64\n",
            " 50  PAQ_A-Season                            475 non-null    object \n",
            " 51  PAQ_A-PAQ_A_Total                       475 non-null    float64\n",
            " 52  PAQ_C-Season                            1721 non-null   object \n",
            " 53  PAQ_C-PAQ_C_Total                       1721 non-null   float64\n",
            " 54  PCIAT-Season                            2736 non-null   object \n",
            " 55  PCIAT-PCIAT_01                          2733 non-null   float64\n",
            " 56  PCIAT-PCIAT_02                          2734 non-null   float64\n",
            " 57  PCIAT-PCIAT_03                          2731 non-null   float64\n",
            " 58  PCIAT-PCIAT_04                          2731 non-null   float64\n",
            " 59  PCIAT-PCIAT_05                          2729 non-null   float64\n",
            " 60  PCIAT-PCIAT_06                          2732 non-null   float64\n",
            " 61  PCIAT-PCIAT_07                          2729 non-null   float64\n",
            " 62  PCIAT-PCIAT_08                          2730 non-null   float64\n",
            " 63  PCIAT-PCIAT_09                          2730 non-null   float64\n",
            " 64  PCIAT-PCIAT_10                          2733 non-null   float64\n",
            " 65  PCIAT-PCIAT_11                          2734 non-null   float64\n",
            " 66  PCIAT-PCIAT_12                          2731 non-null   float64\n",
            " 67  PCIAT-PCIAT_13                          2729 non-null   float64\n",
            " 68  PCIAT-PCIAT_14                          2732 non-null   float64\n",
            " 69  PCIAT-PCIAT_15                          2730 non-null   float64\n",
            " 70  PCIAT-PCIAT_16                          2728 non-null   float64\n",
            " 71  PCIAT-PCIAT_17                          2725 non-null   float64\n",
            " 72  PCIAT-PCIAT_18                          2728 non-null   float64\n",
            " 73  PCIAT-PCIAT_19                          2730 non-null   float64\n",
            " 74  PCIAT-PCIAT_20                          2733 non-null   float64\n",
            " 75  PCIAT-PCIAT_Total                       2736 non-null   float64\n",
            " 76  SDS-Season                              2618 non-null   object \n",
            " 77  SDS-SDS_Total_Raw                       2609 non-null   float64\n",
            " 78  SDS-SDS_Total_T                         2606 non-null   float64\n",
            " 79  PreInt_EduHx-Season                     3540 non-null   object \n",
            " 80  PreInt_EduHx-computerinternet_hoursday  3301 non-null   float64\n",
            " 81  sii                                     2736 non-null   float64\n",
            "dtypes: float64(68), int64(2), object(12)\n",
            "memory usage: 2.5+ MB\n",
            "None\n",
            "\n",
            "Estatísticas descritivas do Train Data:\n",
            "       Basic_Demos-Age  Basic_Demos-Sex  CGAS-CGAS_Score  Physical-BMI  \\\n",
            "count      3960.000000      3960.000000      2421.000000   3022.000000   \n",
            "mean         10.433586         0.372727        65.454771     19.331929   \n",
            "std           3.574648         0.483591        22.341862      5.113934   \n",
            "min           5.000000         0.000000        25.000000      0.000000   \n",
            "25%           8.000000         0.000000        59.000000     15.869350   \n",
            "50%          10.000000         0.000000        65.000000     17.937682   \n",
            "75%          13.000000         1.000000        75.000000     21.571244   \n",
            "max          22.000000         1.000000       999.000000     59.132048   \n",
            "\n",
            "       Physical-Height  Physical-Weight  Physical-Waist_Circumference  \\\n",
            "count      3027.000000      3076.000000                    898.000000   \n",
            "mean         55.946713        89.038615                     27.278508   \n",
            "std           7.473764        44.569040                      5.567287   \n",
            "min          33.000000         0.000000                     18.000000   \n",
            "25%          50.000000        57.200000                     23.000000   \n",
            "50%          55.000000        77.000000                     26.000000   \n",
            "75%          62.000000       113.800000                     30.000000   \n",
            "max          78.500000       315.000000                     50.000000   \n",
            "\n",
            "       Physical-Diastolic_BP  Physical-HeartRate  Physical-Systolic_BP  ...  \\\n",
            "count            2954.000000         2967.000000           2954.000000  ...   \n",
            "mean               69.648951           81.597236            116.983074  ...   \n",
            "std                13.611226           13.665196             17.061225  ...   \n",
            "min                 0.000000           27.000000              0.000000  ...   \n",
            "25%                61.000000           72.000000            107.000000  ...   \n",
            "50%                68.000000           81.000000            114.000000  ...   \n",
            "75%                76.000000           90.500000            125.000000  ...   \n",
            "max               179.000000          138.000000            203.000000  ...   \n",
            "\n",
            "       PCIAT-PCIAT_16  PCIAT-PCIAT_17  PCIAT-PCIAT_18  PCIAT-PCIAT_19  \\\n",
            "count     2728.000000     2725.000000     2728.000000     2730.000000   \n",
            "mean         1.452346        1.627890        1.613636        1.158974   \n",
            "std          1.495600        1.445622        1.529178        1.343661   \n",
            "min          0.000000        0.000000        0.000000        0.000000   \n",
            "25%          0.000000        0.000000        0.000000        0.000000   \n",
            "50%          1.000000        1.000000        1.000000        1.000000   \n",
            "75%          2.000000        3.000000        2.000000        2.000000   \n",
            "max          5.000000        5.000000        5.000000        5.000000   \n",
            "\n",
            "       PCIAT-PCIAT_20  PCIAT-PCIAT_Total  SDS-SDS_Total_Raw  SDS-SDS_Total_T  \\\n",
            "count     2733.000000        2736.000000        2609.000000      2606.000000   \n",
            "mean         0.943652          27.896199          41.088923        57.763622   \n",
            "std          1.185460          20.338853          10.427433        13.196091   \n",
            "min          0.000000           0.000000          17.000000        38.000000   \n",
            "25%          0.000000          12.000000          33.000000        47.000000   \n",
            "50%          1.000000          26.000000          39.000000        55.000000   \n",
            "75%          1.000000          41.000000          46.000000        64.000000   \n",
            "max          5.000000          93.000000          96.000000       100.000000   \n",
            "\n",
            "       PreInt_EduHx-computerinternet_hoursday          sii  \n",
            "count                             3301.000000  2736.000000  \n",
            "mean                                 1.060588     0.580409  \n",
            "std                                  1.094875     0.771122  \n",
            "min                                  0.000000     0.000000  \n",
            "25%                                  0.000000     0.000000  \n",
            "50%                                  1.000000     0.000000  \n",
            "75%                                  2.000000     1.000000  \n",
            "max                                  3.000000     3.000000  \n",
            "\n",
            "[8 rows x 70 columns]\n",
            "\n",
            "Valores ausentes no Train Data:\n",
            "id                                           0\n",
            "Basic_Demos-Enroll_Season                    0\n",
            "Basic_Demos-Age                              0\n",
            "Basic_Demos-Sex                              0\n",
            "CGAS-Season                               1405\n",
            "                                          ... \n",
            "SDS-SDS_Total_Raw                         1351\n",
            "SDS-SDS_Total_T                           1354\n",
            "PreInt_EduHx-Season                        420\n",
            "PreInt_EduHx-computerinternet_hoursday     659\n",
            "sii                                       1224\n",
            "Length: 82, dtype: int64\n",
            "\n",
            "Distribuição do Alvo (sii):\n",
            "sii\n",
            "0.0    1594\n",
            "1.0     730\n",
            "2.0     378\n",
            "3.0      34\n",
            "Name: count, dtype: int64\n"
          ]
        }
      ]
    },
    {
      "cell_type": "code",
      "source": [
        "missing_data = train_data.isnull().mean().sort_values(ascending=False)\n",
        "print(\"Proporção de valores ausentes:\")\n",
        "print(missing_data.head(20))\n"
      ],
      "metadata": {
        "id": "UL1-l-uPdEM7",
        "colab": {
          "base_uri": "https://localhost:8080/"
        },
        "outputId": "6fa221fc-d977-4f50-827a-5c87444be913"
      },
      "execution_count": 226,
      "outputs": [
        {
          "output_type": "stream",
          "name": "stdout",
          "text": [
            "Proporção de valores ausentes:\n",
            "PAQ_A-PAQ_A_Total               0.880051\n",
            "PAQ_A-Season                    0.880051\n",
            "Fitness_Endurance-Time_Sec      0.813131\n",
            "Fitness_Endurance-Time_Mins     0.813131\n",
            "Fitness_Endurance-Max_Stage     0.812374\n",
            "Physical-Waist_Circumference    0.773232\n",
            "FGC-FGC_GSND_Zone               0.731818\n",
            "FGC-FGC_GSD_Zone                0.731566\n",
            "FGC-FGC_GSD                     0.728788\n",
            "FGC-FGC_GSND                    0.728788\n",
            "Fitness_Endurance-Season        0.669697\n",
            "PAQ_C-Season                    0.565404\n",
            "PAQ_C-PAQ_C_Total               0.565404\n",
            "BIA-BIA_DEE                     0.497222\n",
            "BIA-BIA_FFM                     0.497222\n",
            "BIA-BIA_BMR                     0.497222\n",
            "BIA-BIA_BMI                     0.497222\n",
            "BIA-BIA_ECW                     0.497222\n",
            "BIA-BIA_FFMI                    0.497222\n",
            "BIA-BIA_FMI                     0.497222\n",
            "dtype: float64\n"
          ]
        }
      ]
    },
    {
      "cell_type": "code",
      "source": [
        "threshold = 0.7\n",
        "columns_to_drop = missing_data[missing_data > threshold].index\n",
        "\n",
        "train_data_cleaned = train_data.drop(columns=columns_to_drop)\n",
        "print(f\"Colunas removidas: {list(columns_to_drop)}\")\n"
      ],
      "metadata": {
        "id": "lYRJkv7JeuQJ",
        "colab": {
          "base_uri": "https://localhost:8080/"
        },
        "outputId": "a2447150-2cd3-403d-9c87-1a86543908aa"
      },
      "execution_count": 227,
      "outputs": [
        {
          "output_type": "stream",
          "name": "stdout",
          "text": [
            "Colunas removidas: ['PAQ_A-PAQ_A_Total', 'PAQ_A-Season', 'Fitness_Endurance-Time_Sec', 'Fitness_Endurance-Time_Mins', 'Fitness_Endurance-Max_Stage', 'Physical-Waist_Circumference', 'FGC-FGC_GSND_Zone', 'FGC-FGC_GSD_Zone', 'FGC-FGC_GSD', 'FGC-FGC_GSND']\n"
          ]
        }
      ]
    },
    {
      "cell_type": "code",
      "source": [
        "print(\"Valores ausentes restantes:\")\n",
        "print(train_data_cleaned.isnull().sum().sum())\n",
        "\n",
        "missing_data_remaining = train_data_cleaned.isnull().mean().sort_values(ascending=False)\n",
        "print(\"Proporção de valores ausentes restantes:\")\n",
        "print(missing_data_remaining.head(20))\n"
      ],
      "metadata": {
        "id": "_J_d5xLYg19W",
        "colab": {
          "base_uri": "https://localhost:8080/"
        },
        "outputId": "1d901ed4-2955-4dcd-838a-ebc45e1eceb3"
      },
      "execution_count": 228,
      "outputs": [
        {
          "output_type": "stream",
          "name": "stdout",
          "text": [
            "Valores ausentes restantes:\n",
            "100461\n",
            "Proporção de valores ausentes restantes:\n",
            "Fitness_Endurance-Season      0.669697\n",
            "PAQ_C-PAQ_C_Total             0.565404\n",
            "PAQ_C-Season                  0.565404\n",
            "BIA-BIA_Frame_num             0.497222\n",
            "BIA-BIA_FMI                   0.497222\n",
            "BIA-BIA_BMR                   0.497222\n",
            "BIA-BIA_DEE                   0.497222\n",
            "BIA-BIA_ECW                   0.497222\n",
            "BIA-BIA_FFM                   0.497222\n",
            "BIA-BIA_FFMI                  0.497222\n",
            "BIA-BIA_Fat                   0.497222\n",
            "BIA-BIA_Activity_Level_num    0.497222\n",
            "BIA-BIA_ICW                   0.497222\n",
            "BIA-BIA_LDM                   0.497222\n",
            "BIA-BIA_LST                   0.497222\n",
            "BIA-BIA_SMM                   0.497222\n",
            "BIA-BIA_TBW                   0.497222\n",
            "BIA-BIA_BMC                   0.497222\n",
            "BIA-BIA_BMI                   0.497222\n",
            "BIA-Season                    0.458333\n",
            "dtype: float64\n"
          ]
        }
      ]
    },
    {
      "cell_type": "code",
      "source": [
        "columns_to_remove = [\n",
        "    'Fitness_Endurance-Season', 'PAQ_C-Season', 'BIA-BIA_ECW',\n",
        "    'PCIAT-PCIAT_Total', 'PCIAT-PCIAT_15', 'PCIAT-PCIAT_18',\n",
        "    'PCIAT-PCIAT_17', 'PCIAT-PCIAT_05', 'PCIAT-PCIAT_08',\n",
        "    'PCIAT-PCIAT_20', 'PCIAT-PCIAT_02', 'PCIAT-PCIAT_03',\n",
        "    'PCIAT-PCIAT_16',\n",
        "    'PCIAT-PCIAT_13', 'PCIAT-PCIAT_10', 'PCIAT-PCIAT_14',\n",
        "    'PCIAT-PCIAT_19', 'PCIAT-PCIAT_09', 'PCIAT-PCIAT_06',\n",
        "    'PCIAT-PCIAT_01', 'PCIAT-PCIAT_11', 'PCIAT-PCIAT_04',\n",
        "    'PCIAT-PCIAT_07', 'PCIAT-PCIAT_12'\n",
        "]\n",
        "\n",
        "train_data_cleaned = train_data_cleaned.drop(columns=columns_to_remove, errors='ignore')\n",
        "\n",
        "columns_with_nulls = train_data_cleaned.columns[train_data_cleaned.isnull().any()]\n",
        "numeric_columns_with_nulls = train_data_cleaned[columns_with_nulls].select_dtypes(include=['float64', 'int64']).columns\n",
        "categorical_columns_with_nulls = train_data_cleaned[columns_with_nulls].select_dtypes(include=['object']).columns\n",
        "\n",
        "imputer_numeric = SimpleImputer(strategy='mean')\n",
        "train_data_cleaned[numeric_columns_with_nulls] = imputer_numeric.fit_transform(train_data_cleaned[numeric_columns_with_nulls])\n",
        "\n",
        "imputer_categorical = SimpleImputer(strategy='most_frequent')\n",
        "train_data_cleaned[categorical_columns_with_nulls] = imputer_categorical.fit_transform(train_data_cleaned[categorical_columns_with_nulls])\n",
        "\n",
        "print(\"Valores ausentes restantes após imputação completa:\")\n",
        "print(train_data_cleaned.isnull().sum().sum())\n"
      ],
      "metadata": {
        "id": "knCcdQYFmWsf",
        "colab": {
          "base_uri": "https://localhost:8080/"
        },
        "outputId": "eb0c4e6a-7c20-456c-f994-d97ad1f10ad0"
      },
      "execution_count": 229,
      "outputs": [
        {
          "output_type": "stream",
          "name": "stdout",
          "text": [
            "Valores ausentes restantes após imputação completa:\n",
            "0\n"
          ]
        }
      ]
    },
    {
      "cell_type": "code",
      "source": [
        "categorical_columns = train_data_cleaned.select_dtypes(include=['object']).columns\n",
        "for col in categorical_columns:\n",
        "    le = LabelEncoder()\n",
        "    train_data_cleaned[col] = le.fit_transform(train_data_cleaned[col])\n",
        "\n",
        "numeric_columns = train_data_cleaned.select_dtypes(include=['float64', 'int64']).columns\n",
        "scaler = StandardScaler()\n",
        "train_data_cleaned[numeric_columns] = scaler.fit_transform(train_data_cleaned[numeric_columns])\n",
        "\n",
        "print(\"Dados normalizados e categóricos codificados.\")\n"
      ],
      "metadata": {
        "id": "TNj6dMrOoUTa",
        "colab": {
          "base_uri": "https://localhost:8080/"
        },
        "outputId": "d9ad3e15-b7bd-4848-fec2-332e362fb0b2"
      },
      "execution_count": 230,
      "outputs": [
        {
          "output_type": "stream",
          "name": "stdout",
          "text": [
            "Dados normalizados e categóricos codificados.\n"
          ]
        }
      ]
    },
    {
      "cell_type": "code",
      "source": [
        "X = train_data_cleaned.drop(columns=['sii'])\n",
        "y = train_data_cleaned['sii']\n",
        "\n",
        "X_train, X_val, y_train, y_val = train_test_split(X, y, test_size=0.2, random_state=42)\n",
        "\n",
        "print(f\"Conjunto de treino: {X_train.shape}, Conjunto de validação: {X_val.shape}\")\n"
      ],
      "metadata": {
        "id": "Q-9nVDFtpeFp",
        "colab": {
          "base_uri": "https://localhost:8080/"
        },
        "outputId": "d27402e5-52b3-42c0-9b59-fad1a79799e4"
      },
      "execution_count": 231,
      "outputs": [
        {
          "output_type": "stream",
          "name": "stdout",
          "text": [
            "Conjunto de treino: (3168, 47), Conjunto de validação: (792, 47)\n"
          ]
        }
      ]
    },
    {
      "cell_type": "code",
      "source": [
        "y_train_class = np.round(y_train).astype(int)\n",
        "y_val_class = np.round(y_val).astype(int)\n"
      ],
      "metadata": {
        "id": "x-Efof5hqBMO"
      },
      "execution_count": 232,
      "outputs": []
    },
    {
      "cell_type": "code",
      "source": [
        "print(\"Valores únicos de y_train_class:\", np.unique(y_train_class))\n"
      ],
      "metadata": {
        "id": "FPhvXqDtrJ25",
        "colab": {
          "base_uri": "https://localhost:8080/"
        },
        "outputId": "01cf043b-f6ea-421c-ca80-c06d65278176"
      },
      "execution_count": 233,
      "outputs": [
        {
          "output_type": "stream",
          "name": "stdout",
          "text": [
            "Valores únicos de y_train_class: [-1  0  1  2  4]\n"
          ]
        }
      ]
    },
    {
      "cell_type": "code",
      "source": [
        "print(\"Valores menores que 0:\", y_train[y_train < 0])\n",
        "print(\"Valores maiores que 3:\", y_train[y_train > 3])\n"
      ],
      "metadata": {
        "id": "pmv_saqys7gb",
        "colab": {
          "base_uri": "https://localhost:8080/"
        },
        "outputId": "5cfd64b9-b632-4d34-fa83-92e0a6331f40"
      },
      "execution_count": 234,
      "outputs": [
        {
          "output_type": "stream",
          "name": "stdout",
          "text": [
            "Valores menores que 0: 1616   -0.905692\n",
            "2408   -0.905692\n",
            "2802   -0.905692\n",
            "3951   -0.905692\n",
            "2123   -0.905692\n",
            "          ...   \n",
            "3092   -0.905692\n",
            "1095   -0.905692\n",
            "1130   -0.905692\n",
            "1294   -0.905692\n",
            "3174   -0.905692\n",
            "Name: sii, Length: 1283, dtype: float64\n",
            "Valores maiores que 3: 2860    3.775616\n",
            "1907    3.775616\n",
            "1454    3.775616\n",
            "370     3.775616\n",
            "191     3.775616\n",
            "2005    3.775616\n",
            "2691    3.775616\n",
            "2689    3.775616\n",
            "3494    3.775616\n",
            "2316    3.775616\n",
            "306     3.775616\n",
            "3223    3.775616\n",
            "3074    3.775616\n",
            "3030    3.775616\n",
            "405     3.775616\n",
            "1107    3.775616\n",
            "2263    3.775616\n",
            "255     3.775616\n",
            "2036    3.775616\n",
            "868     3.775616\n",
            "894     3.775616\n",
            "2504    3.775616\n",
            "487     3.775616\n",
            "2331    3.775616\n",
            "2731    3.775616\n",
            "1076    3.775616\n",
            "Name: sii, dtype: float64\n"
          ]
        }
      ]
    },
    {
      "cell_type": "code",
      "source": [
        "y_train_adjusted = y_train.clip(0, 3)\n",
        "y_val_adjusted = y_val.clip(0, 3)\n",
        "\n",
        "y_train_class = np.round(y_train_adjusted).astype(int)\n",
        "y_val_class = np.round(y_val_adjusted).astype(int)\n",
        "\n",
        "print(\"Valores únicos após ajuste:\", np.unique(y_train_class))\n"
      ],
      "metadata": {
        "id": "hpEUoJLXs__a",
        "colab": {
          "base_uri": "https://localhost:8080/"
        },
        "outputId": "10554752-367c-4d46-dab9-8cc13feca577"
      },
      "execution_count": 235,
      "outputs": [
        {
          "output_type": "stream",
          "name": "stdout",
          "text": [
            "Valores únicos após ajuste: [0 1 2 3]\n"
          ]
        }
      ]
    },
    {
      "cell_type": "code",
      "source": [
        "print(\"Distribuição de classes em y_train_class:\")\n",
        "print(pd.Series(y_train_class).value_counts())\n"
      ],
      "metadata": {
        "id": "dqD71UcyuDcQ",
        "colab": {
          "base_uri": "https://localhost:8080/"
        },
        "outputId": "c783a558-352e-401c-cb9a-bf427a141095"
      },
      "execution_count": 236,
      "outputs": [
        {
          "output_type": "stream",
          "name": "stdout",
          "text": [
            "Distribuição de classes em y_train_class:\n",
            "sii\n",
            "0    2258\n",
            "1     582\n",
            "2     302\n",
            "3      26\n",
            "Name: count, dtype: int64\n"
          ]
        }
      ]
    },
    {
      "cell_type": "code",
      "source": [
        "from sklearn.ensemble import RandomForestClassifier\n",
        "from sklearn.metrics import classification_report, cohen_kappa_score\n",
        "\n",
        "model = RandomForestClassifier(random_state=42)\n",
        "model.fit(X_train, y_train_class)\n",
        "\n",
        "y_pred = model.predict(X_val)\n",
        "\n",
        "print(\"Relatório de Classificação:\")\n",
        "print(classification_report(y_val_class, y_pred))\n",
        "\n",
        "kappa = cohen_kappa_score(y_val_class, y_pred, weights='quadratic')\n",
        "print(f\"Quadratic Weighted Kappa: {kappa}\")\n"
      ],
      "metadata": {
        "id": "M9AbHUL6u4ds",
        "colab": {
          "base_uri": "https://localhost:8080/"
        },
        "outputId": "c0bfb276-af63-4028-fd29-e06edab2e1f4"
      },
      "execution_count": 242,
      "outputs": [
        {
          "output_type": "stream",
          "name": "stdout",
          "text": [
            "Relatório de Classificação:\n",
            "              precision    recall  f1-score   support\n",
            "\n",
            "           0       0.76      0.96      0.85       560\n",
            "           1       0.32      0.14      0.20       148\n",
            "           2       0.33      0.07      0.11        76\n",
            "           3       0.00      0.00      0.00         8\n",
            "\n",
            "    accuracy                           0.71       792\n",
            "   macro avg       0.35      0.29      0.29       792\n",
            "weighted avg       0.63      0.71      0.65       792\n",
            "\n",
            "Quadratic Weighted Kappa: 0.26654996817313814\n"
          ]
        },
        {
          "output_type": "stream",
          "name": "stderr",
          "text": [
            "/usr/local/lib/python3.10/dist-packages/sklearn/metrics/_classification.py:1531: UndefinedMetricWarning: Precision is ill-defined and being set to 0.0 in labels with no predicted samples. Use `zero_division` parameter to control this behavior.\n",
            "  _warn_prf(average, modifier, f\"{metric.capitalize()} is\", len(result))\n",
            "/usr/local/lib/python3.10/dist-packages/sklearn/metrics/_classification.py:1531: UndefinedMetricWarning: Precision is ill-defined and being set to 0.0 in labels with no predicted samples. Use `zero_division` parameter to control this behavior.\n",
            "  _warn_prf(average, modifier, f\"{metric.capitalize()} is\", len(result))\n",
            "/usr/local/lib/python3.10/dist-packages/sklearn/metrics/_classification.py:1531: UndefinedMetricWarning: Precision is ill-defined and being set to 0.0 in labels with no predicted samples. Use `zero_division` parameter to control this behavior.\n",
            "  _warn_prf(average, modifier, f\"{metric.capitalize()} is\", len(result))\n"
          ]
        }
      ]
    },
    {
      "cell_type": "code",
      "source": [
        "correlation = X_train.corrwith(y_train).sort_values(ascending=False)\n",
        "print(\"Correlação com o Alvo (sii):\")\n",
        "print(correlation.head(10))\n"
      ],
      "metadata": {
        "id": "ZGXfhnws0vIy",
        "colab": {
          "base_uri": "https://localhost:8080/"
        },
        "outputId": "62025fc1-3fc0-41d7-d1b6-a2733847c85d"
      },
      "execution_count": 238,
      "outputs": [
        {
          "output_type": "stream",
          "name": "stdout",
          "text": [
            "Correlação com o Alvo (sii):\n",
            "Physical-Height                           0.321510\n",
            "PreInt_EduHx-computerinternet_hoursday    0.285892\n",
            "Basic_Demos-Age                           0.281538\n",
            "Physical-Weight                           0.277437\n",
            "SDS-SDS_Total_T                           0.218836\n",
            "SDS-SDS_Total_Raw                         0.214633\n",
            "Physical-BMI                              0.185064\n",
            "FGC-FGC_CU                                0.171753\n",
            "BIA-BIA_BMI                               0.169407\n",
            "Physical-Systolic_BP                      0.134133\n",
            "dtype: float64\n"
          ]
        }
      ]
    }
  ]
}